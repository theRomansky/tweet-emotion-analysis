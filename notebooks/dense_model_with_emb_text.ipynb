{
 "cells": [
  {
   "cell_type": "code",
   "execution_count": 33,
   "id": "initial_id",
   "metadata": {
    "collapsed": true,
    "ExecuteTime": {
     "end_time": "2024-03-25T08:25:27.030584Z",
     "start_time": "2024-03-25T08:25:27.027255Z"
    }
   },
   "outputs": [],
   "source": [
    "import torch\n",
    "import torch.nn as nn\n",
    "import torch.optim as optim\n",
    "import datetime\n",
    "import matplotlib.pyplot as plt\n",
    "from torch.utils.data import DataLoader, TensorDataset\n",
    "from sklearn.model_selection import train_test_split"
   ]
  },
  {
   "cell_type": "code",
   "outputs": [],
   "source": [
    "document_vectors_tensor = torch.load('../data/document_vectors_emb_tensor.pt')\n",
    "labels_tensor = torch.load('../data/labels_emb_tensor.pt')"
   ],
   "metadata": {
    "collapsed": false,
    "ExecuteTime": {
     "end_time": "2024-03-25T08:25:27.216688Z",
     "start_time": "2024-03-25T08:25:27.185100Z"
    }
   },
   "id": "3cffbc321fb5f11a",
   "execution_count": 34
  },
  {
   "cell_type": "code",
   "outputs": [],
   "source": [
    "# Делю данные на тренировочные и тестовые/валидационные\n",
    "train_data, test_val_data, train_labels, test_val_labels = train_test_split(document_vectors_tensor, labels_tensor, train_size=0.7, random_state=24, stratify=labels_tensor)"
   ],
   "metadata": {
    "collapsed": false,
    "ExecuteTime": {
     "end_time": "2024-03-25T08:25:27.469221Z",
     "start_time": "2024-03-25T08:25:27.367277Z"
    }
   },
   "id": "f593b418224e7bc2",
   "execution_count": 35
  },
  {
   "cell_type": "code",
   "outputs": [],
   "source": [
    "# Разделяю тестовые/валидационные на тестовые и валидационные\n",
    "test_data, val_data, test_labels, val_labels = train_test_split(test_val_data, test_val_labels, train_size=0.5, random_state=24, stratify=test_val_labels)"
   ],
   "metadata": {
    "collapsed": false,
    "ExecuteTime": {
     "end_time": "2024-03-25T08:25:27.565335Z",
     "start_time": "2024-03-25T08:25:27.533573Z"
    }
   },
   "id": "16b47d8f9e51709e",
   "execution_count": 36
  },
  {
   "cell_type": "code",
   "outputs": [],
   "source": [
    "# Стандартизую данные\n",
    "mean = torch.mean(train_data, dim=0)\n",
    "std = torch.std(train_data, dim=0)\n",
    "train_data = (train_data - mean) / std\n",
    "test_data = (test_data - mean) / std\n",
    "val_data = (val_data - mean) / std"
   ],
   "metadata": {
    "collapsed": false,
    "ExecuteTime": {
     "end_time": "2024-03-25T08:25:27.799371Z",
     "start_time": "2024-03-25T08:25:27.701544Z"
    }
   },
   "id": "418551c61dd81ef1",
   "execution_count": 37
  },
  {
   "cell_type": "code",
   "outputs": [],
   "source": [
    "# Создаю измерение батчей\n",
    "train_dataset = TensorDataset(train_data, train_labels)\n",
    "val_dataset = TensorDataset(val_data, val_labels)\n",
    "test_dataset = TensorDataset(test_data, test_labels)\n",
    "\n",
    "batch_size = 64\n",
    "\n",
    "train_loader = DataLoader(train_dataset, batch_size=batch_size, shuffle=True)\n",
    "val_loader = DataLoader(val_dataset, batch_size=batch_size)\n",
    "test_loader = DataLoader(test_dataset, batch_size=batch_size)"
   ],
   "metadata": {
    "collapsed": false,
    "ExecuteTime": {
     "end_time": "2024-03-25T08:25:27.873237Z",
     "start_time": "2024-03-25T08:25:27.870487Z"
    }
   },
   "id": "7c2ff7fb609522d",
   "execution_count": 38
  },
  {
   "cell_type": "code",
   "outputs": [],
   "source": [
    "import torch.nn.functional as F\n",
    "\n",
    "class SeqModel(nn.Module):\n",
    "    def __init__(self):\n",
    "        super().__init__()\n",
    "        self.fc1 = nn.Linear(100, 128)\n",
    "        self.fc2 = nn.Linear(128, 64)\n",
    "        self.fc3 = nn.Linear(64, 6)\n",
    "        self.act = nn.ReLU()\n",
    "        self.dropout = nn.Dropout(p=0.2)  # Здесь p - вероятность обнуления\n",
    "\n",
    "    def forward(self, x):\n",
    "        out = self.fc1(x)\n",
    "        out = self.act(out)\n",
    "        out = self.fc2(out)\n",
    "        out = self.act(out)\n",
    "        out = self.fc3(out)\n",
    "\n",
    "        return out"
   ],
   "metadata": {
    "collapsed": false,
    "ExecuteTime": {
     "end_time": "2024-03-25T08:25:28.037529Z",
     "start_time": "2024-03-25T08:25:28.034128Z"
    }
   },
   "id": "8a8064121a99c508",
   "execution_count": 39
  },
  {
   "cell_type": "code",
   "outputs": [],
   "source": [
    "def training_loop(n_epochs, optimizer, model, criterion, train_loader, val_loader=None):\n",
    "    train_losses = []\n",
    "    val_losses = []\n",
    "\n",
    "    for epoch in range(n_epochs):\n",
    "        loss_train = 0.0\n",
    "        for data, labels in train_loader:\n",
    "            optimizer.zero_grad()\n",
    "            outputs = model(data)\n",
    "            loss = criterion(outputs, labels)\n",
    "            loss.backward()\n",
    "            optimizer.step()\n",
    "            loss_train += loss.item()\n",
    "\n",
    "        avg_loss_train = loss_train / len(train_loader)\n",
    "        train_losses.append(avg_loss_train)\n",
    "\n",
    "        if val_loader is not None:\n",
    "            val_loss = 0.0\n",
    "            with torch.no_grad():\n",
    "                for val_data, val_labels in val_loader:\n",
    "                    val_outputs = model(val_data)\n",
    "                    val_loss += criterion(val_outputs, val_labels).item()\n",
    "            avg_val_loss = val_loss / len(val_loader)\n",
    "            val_losses.append(avg_val_loss)\n",
    "\n",
    "        # Вывод средней потери на каждой эпохе\n",
    "        if epoch == 0 or (epoch + 1) % 10 == 0:\n",
    "            print('{} Epoch {}, Training loss: {:.4f}'.format(\n",
    "                datetime.datetime.now(), epoch + 1, avg_loss_train))\n",
    "            if val_loader is not None:\n",
    "                print('{} Epoch {}, Validation loss: {:.4f}'.format(\n",
    "                    datetime.datetime.now(), epoch + 1, avg_val_loss))\n",
    "\n",
    "    return train_losses, val_losses"
   ],
   "metadata": {
    "collapsed": false,
    "ExecuteTime": {
     "end_time": "2024-03-25T08:25:28.285105Z",
     "start_time": "2024-03-25T08:25:28.279406Z"
    }
   },
   "id": "cdc6b1518961e31e",
   "execution_count": 40
  },
  {
   "cell_type": "code",
   "outputs": [],
   "source": [
    "def plot_losses(train_losses, val_losses=None):\n",
    "    plt.plot(train_losses, label='Training loss')\n",
    "    if val_losses:\n",
    "        plt.plot(val_losses, label='Validation loss')\n",
    "    plt.xlabel('Epoch')\n",
    "    plt.ylabel('Loss')\n",
    "    plt.legend()\n",
    "    plt.title('Training and Validation Losses')\n",
    "    plt.show()"
   ],
   "metadata": {
    "collapsed": false,
    "ExecuteTime": {
     "end_time": "2024-03-25T08:25:28.652169Z",
     "start_time": "2024-03-25T08:25:28.649557Z"
    }
   },
   "id": "e0219e662a6a56e5",
   "execution_count": 41
  },
  {
   "cell_type": "code",
   "outputs": [],
   "source": [
    "n_epochs = 14\n",
    "batch_size = 64\n",
    "learning_rate = 0.055\n",
    "\n",
    "model = SeqModel()\n",
    "\n",
    "criterion = nn.CrossEntropyLoss()\n",
    "optimizer = optim.SGD(model.parameters(), lr=learning_rate)"
   ],
   "metadata": {
    "collapsed": false,
    "ExecuteTime": {
     "end_time": "2024-03-25T08:25:28.933598Z",
     "start_time": "2024-03-25T08:25:28.929192Z"
    }
   },
   "id": "dba0f211e7835335",
   "execution_count": 42
  },
  {
   "cell_type": "code",
   "outputs": [
    {
     "name": "stdout",
     "output_type": "stream",
     "text": [
      "2024-03-25 15:25:31.974467 Epoch 1, Training loss: 0.7945\n",
      "2024-03-25 15:25:31.974580 Epoch 1, Validation loss: 0.6771\n",
      "2024-03-25 15:25:54.257071 Epoch 10, Training loss: 0.5149\n",
      "2024-03-25 15:25:54.257200 Epoch 10, Validation loss: 0.5434\n"
     ]
    }
   ],
   "source": [
    "train_losses, val_losses = training_loop(n_epochs, optimizer, model, criterion, train_loader, val_loader)"
   ],
   "metadata": {
    "collapsed": false,
    "ExecuteTime": {
     "end_time": "2024-03-25T08:26:04.090381Z",
     "start_time": "2024-03-25T08:25:29.369978Z"
    }
   },
   "id": "8289daad636659b6",
   "execution_count": 43
  },
  {
   "cell_type": "code",
   "outputs": [
    {
     "data": {
      "text/plain": "<Figure size 640x480 with 1 Axes>",
      "image/png": "[encoded data removed]"
     },
     "metadata": {},
     "output_type": "display_data"
    }
   ],
   "source": [
    "plot_losses(train_losses, val_losses)"
   ],
   "metadata": {
    "collapsed": false,
    "ExecuteTime": {
     "end_time": "2024-03-25T08:26:04.210348Z",
     "start_time": "2024-03-25T08:26:04.091451Z"
    }
   },
   "id": "65894f9fb5168934",
   "execution_count": 44
  },
  {
   "cell_type": "code",
   "outputs": [
    {
     "name": "stdout",
     "output_type": "stream",
     "text": [
      "Validation loss: 0.5422\n",
      "Validation accuracy: 78.89%\n"
     ]
    }
   ],
   "source": [
    "val_loss = 0.0\n",
    "correct = 0\n",
    "total = 0\n",
    "\n",
    "with torch.no_grad():\n",
    "    for val_data, val_labels in val_loader:\n",
    "        val_outputs = model(val_data)\n",
    "        val_loss += criterion(val_outputs, val_labels).item()\n",
    "        _, predicted = torch.max(val_outputs, 1)\n",
    "        total += val_labels.size(0)\n",
    "        correct += (predicted == val_labels).sum().item()\n",
    "\n",
    "print('Validation loss: {:.4f}'.format(val_loss / len(val_loader)))\n",
    "print('Validation accuracy: {:.2f}%'.format(100 * correct / total))"
   ],
   "metadata": {
    "collapsed": false,
    "ExecuteTime": {
     "end_time": "2024-03-25T08:26:04.684946Z",
     "start_time": "2024-03-25T08:26:04.212773Z"
    }
   },
   "id": "74c96824b9d1675f",
   "execution_count": 45
  },
  {
   "cell_type": "code",
   "outputs": [
    {
     "name": "stdout",
     "output_type": "stream",
     "text": [
      "Test loss: 0.5386\n",
      "Test accuracy: 78.74%\n"
     ]
    }
   ],
   "source": [
    "test_loss = 0.0\n",
    "correct = 0\n",
    "total = 0\n",
    "with torch.no_grad():\n",
    "    for test_data, test_labels in test_loader:\n",
    "        test_outputs = model(test_data)\n",
    "        test_loss += criterion(test_outputs, test_labels).item()\n",
    "        _, predicted = torch.max(test_outputs, 1)\n",
    "        total += test_labels.size(0)\n",
    "        correct += (predicted == test_labels).sum().item()\n",
    "\n",
    "print('Test loss: {:.4f}'.format(test_loss / len(test_loader)))\n",
    "print('Test accuracy: {:.2f}%'.format(100 * correct / total))"
   ],
   "metadata": {
    "collapsed": false,
    "ExecuteTime": {
     "end_time": "2024-03-25T08:26:05.009157Z",
     "start_time": "2024-03-25T08:26:04.686801Z"
    }
   },
   "id": "6d3bc1d9c91c7163",
   "execution_count": 46
  },
  {
   "cell_type": "code",
   "outputs": [],
   "source": [],
   "metadata": {
    "collapsed": false
   },
   "id": "7491714bf798ae2e"
  }
 ],
 "metadata": {
  "kernelspec": {
   "display_name": "Python 3",
   "language": "python",
   "name": "python3"
  },
  "language_info": {
   "codemirror_mode": {
    "name": "ipython",
    "version": 2
   },
   "file_extension": ".py",
   "mimetype": "text/x-python",
   "name": "python",
   "nbconvert_exporter": "python",
   "pygments_lexer": "ipython2",
   "version": "2.7.6"
  }
 },
 "nbformat": 4,
 "nbformat_minor": 5
}
