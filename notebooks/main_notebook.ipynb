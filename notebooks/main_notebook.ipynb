{
 "cells": [
  {
   "cell_type": "code",
   "execution_count": 3,
   "id": "initial_id",
   "metadata": {
    "collapsed": true,
    "ExecuteTime": {
     "end_time": "2024-03-22T10:04:07.491577Z",
     "start_time": "2024-03-22T10:04:07.487890Z"
    }
   },
   "outputs": [],
   "source": [
    "import pandas as pd\n",
    "import numpy as np\n",
    "import datetime\n",
    "import spacy\n",
    "import re\n",
    "import torch\n",
    "import pickle\n",
    "import torch.optim as optim\n",
    "import matplotlib.pyplot as plt\n",
    "import torch.nn.functional as F\n",
    "import torch.nn as nn\n",
    "from torch.utils.data import TensorDataset, DataLoader\n",
    "from sklearn.model_selection import train_test_split\n",
    "from sklearn.feature_extraction.text import TfidfVectorizer\n",
    "from sklearn.metrics import accuracy_score, classification_report\n",
    "from gensim.models import Word2Vec"
   ]
  },
  {
   "cell_type": "code",
   "outputs": [],
   "source": [
    "# Ознакомимся с нашим набором данных\n",
    "df = pd.read_csv('../data/text.csv')"
   ],
   "metadata": {
    "collapsed": false,
    "ExecuteTime": {
     "end_time": "2024-03-22T10:04:08.140112Z",
     "start_time": "2024-03-22T10:04:07.686775Z"
    }
   },
   "id": "b2259c973361b92a",
   "execution_count": 4
  },
  {
   "cell_type": "code",
   "outputs": [],
   "source": [],
   "metadata": {
    "collapsed": false,
    "ExecuteTime": {
     "end_time": "2024-03-22T10:04:08.142663Z",
     "start_time": "2024-03-22T10:04:08.141169Z"
    }
   },
   "id": "bf64767d2941316",
   "execution_count": 4
  },
  {
   "cell_type": "markdown",
   "source": [
    "Each entry in this dataset consists of a text segment representing a Twitter message and a corresponding label indicating the predominant emotion conveyed. The emotions are classified into six categories: sadness (0), joy (1), love (2), anger (3), fear (4), and surprise (5). Whether you're interested in sentiment analysis, emotion classification, or text mining, this dataset provides a rich foundation for exploring the nuanced emotional landscape within the realm of social media."
   ],
   "metadata": {
    "collapsed": false
   },
   "id": "e8491dda59307f54"
  },
  {
   "cell_type": "code",
   "outputs": [
    {
     "data": {
      "text/plain": "label\n1    33.844519\n0    29.074948\n3    13.751383\n4    11.446970\n2     8.290128\n5     3.592053\nName: count, dtype: float64"
     },
     "execution_count": 5,
     "metadata": {},
     "output_type": "execute_result"
    }
   ],
   "source": [
    "# проверим соотношение классов\n",
    "df['label'].value_counts() / len(df['label']) * 100"
   ],
   "metadata": {
    "collapsed": false,
    "ExecuteTime": {
     "end_time": "2024-03-22T10:04:08.903380Z",
     "start_time": "2024-03-22T10:04:08.895285Z"
    }
   },
   "id": "dfac5105c634707d",
   "execution_count": 5
  },
  {
   "cell_type": "code",
   "outputs": [],
   "source": [
    "# так как производительности моего компьютера не хватает для обработки такого количества данных, я возьму только 10% данных с таким-же соотношением классов\n",
    "df_subset_text, _, df_subset_label, _ = train_test_split(df.drop(['label'], axis=1), df['label'], train_size=0.1, random_state=42, stratify=df[['label']])\n",
    "df = df.drop(['Unnamed: 0'], axis=1)"
   ],
   "metadata": {
    "collapsed": false,
    "ExecuteTime": {
     "end_time": "2024-03-22T10:04:14.290130Z",
     "start_time": "2024-03-22T10:04:13.586377Z"
    }
   },
   "id": "5dcd8c0adb9c7a6a",
   "execution_count": 6
  },
  {
   "cell_type": "code",
   "outputs": [
    {
     "data": {
      "text/plain": "                                                     text  label\n0           i just feel really helpless and heavy hearted      4\n1       ive enjoyed being able to slouch about relax a...      0\n2       i gave up my internship with the dmrg and am f...      4\n3                              i dont know i feel so lost      0\n4       i am a kindergarten teacher and i am thoroughl...      4\n...                                                   ...    ...\n416804  i feel like telling these horny devils to find...      2\n416805  i began to realize that when i was feeling agi...      3\n416806  i feel very curious be why previous early dawn...      5\n416807  i feel that becuase of the tyranical nature of...      3\n416808  i think that after i had spent some time inves...      5\n\n[416809 rows x 2 columns]",
      "text/html": "<div>\n<style scoped>\n    .dataframe tbody tr th:only-of-type {\n        vertical-align: middle;\n    }\n\n    .dataframe tbody tr th {\n        vertical-align: top;\n    }\n\n    .dataframe thead th {\n        text-align: right;\n    }\n</style>\n<table border=\"1\" class=\"dataframe\">\n  <thead>\n    <tr style=\"text-align: right;\">\n      <th></th>\n      <th>text</th>\n      <th>label</th>\n    </tr>\n  </thead>\n  <tbody>\n    <tr>\n      <th>0</th>\n      <td>i just feel really helpless and heavy hearted</td>\n      <td>4</td>\n    </tr>\n    <tr>\n      <th>1</th>\n      <td>ive enjoyed being able to slouch about relax a...</td>\n      <td>0</td>\n    </tr>\n    <tr>\n      <th>2</th>\n      <td>i gave up my internship with the dmrg and am f...</td>\n      <td>4</td>\n    </tr>\n    <tr>\n      <th>3</th>\n      <td>i dont know i feel so lost</td>\n      <td>0</td>\n    </tr>\n    <tr>\n      <th>4</th>\n      <td>i am a kindergarten teacher and i am thoroughl...</td>\n      <td>4</td>\n    </tr>\n    <tr>\n      <th>...</th>\n      <td>...</td>\n      <td>...</td>\n    </tr>\n    <tr>\n      <th>416804</th>\n      <td>i feel like telling these horny devils to find...</td>\n      <td>2</td>\n    </tr>\n    <tr>\n      <th>416805</th>\n      <td>i began to realize that when i was feeling agi...</td>\n      <td>3</td>\n    </tr>\n    <tr>\n      <th>416806</th>\n      <td>i feel very curious be why previous early dawn...</td>\n      <td>5</td>\n    </tr>\n    <tr>\n      <th>416807</th>\n      <td>i feel that becuase of the tyranical nature of...</td>\n      <td>3</td>\n    </tr>\n    <tr>\n      <th>416808</th>\n      <td>i think that after i had spent some time inves...</td>\n      <td>5</td>\n    </tr>\n  </tbody>\n</table>\n<p>416809 rows × 2 columns</p>\n</div>"
     },
     "execution_count": 7,
     "metadata": {},
     "output_type": "execute_result"
    }
   ],
   "source": [
    "# мой сабсет с которым я буду работать\n",
    "df"
   ],
   "metadata": {
    "collapsed": false,
    "ExecuteTime": {
     "end_time": "2024-03-22T10:04:16.363423Z",
     "start_time": "2024-03-22T10:04:16.357814Z"
    }
   },
   "id": "7deca1fc0139fb57",
   "execution_count": 7
  },
  {
   "cell_type": "code",
   "outputs": [
    {
     "data": {
      "text/plain": "Empty DataFrame\nColumns: [text, label]\nIndex: []",
      "text/html": "<div>\n<style scoped>\n    .dataframe tbody tr th:only-of-type {\n        vertical-align: middle;\n    }\n\n    .dataframe tbody tr th {\n        vertical-align: top;\n    }\n\n    .dataframe thead th {\n        text-align: right;\n    }\n</style>\n<table border=\"1\" class=\"dataframe\">\n  <thead>\n    <tr style=\"text-align: right;\">\n      <th></th>\n      <th>text</th>\n      <th>label</th>\n    </tr>\n  </thead>\n  <tbody>\n  </tbody>\n</table>\n</div>"
     },
     "execution_count": 8,
     "metadata": {},
     "output_type": "execute_result"
    }
   ],
   "source": [
    "# проверим наличие верхнего регистра в тексте\n",
    "mask_uppercase = df['text'].str.isupper()\n",
    "df[mask_uppercase]"
   ],
   "metadata": {
    "collapsed": false,
    "ExecuteTime": {
     "end_time": "2024-03-22T10:04:16.862690Z",
     "start_time": "2024-03-22T10:04:16.821085Z"
    }
   },
   "id": "37bed8a4e41295dc",
   "execution_count": 8
  },
  {
   "cell_type": "code",
   "outputs": [],
   "source": [
    "# проверим наличие упоминаний пользователей. Сначала создам функцию\n",
    "def check_user_mentions(text):\n",
    "    pattern = r'@(\\w+)'\n",
    "    mentions = re.findall(pattern, text)\n",
    "    return mentions"
   ],
   "metadata": {
    "collapsed": false,
    "ExecuteTime": {
     "end_time": "2024-03-22T10:04:19.570115Z",
     "start_time": "2024-03-22T10:04:19.567261Z"
    }
   },
   "id": "8a469c236eb67a7a",
   "execution_count": 9
  },
  {
   "cell_type": "code",
   "outputs": [
    {
     "name": "stdout",
     "output_type": "stream",
     "text": [
      "[]\n"
     ]
    }
   ],
   "source": [
    "mentions = []\n",
    "for twit in df['text']:\n",
    "    if len(check_user_mentions(twit)) > 0:\n",
    "        mentions.append(twit)\n",
    "        \n",
    "print(mentions)"
   ],
   "metadata": {
    "collapsed": false,
    "ExecuteTime": {
     "end_time": "2024-03-22T10:04:20.054743Z",
     "start_time": "2024-03-22T10:04:19.837275Z"
    }
   },
   "id": "4e41c54d5ea1ea18",
   "execution_count": 10
  },
  {
   "cell_type": "code",
   "outputs": [],
   "source": [
    "# Исправляю сокращённые формы, которые могут быть неправильно обработаны токенизатором и лемматизатором spaCy\n",
    "def expand_contractions(text):\n",
    "    contractions = {\n",
    "        \"im\": \"i am\",\n",
    "        \"i m\": \"i am\",\n",
    "        \"i ll\": \"i will\",\n",
    "        \"i ve\": \"i have\",\n",
    "        \"ive\": \"i have\",\n",
    "        \"i d\": \"i would\",\n",
    "        \"id\": \"i would\",\n",
    "        \"youre\": \"you are\",\n",
    "        \"you re\": \"you are\",\n",
    "        \"youll\": \"you will\",\n",
    "        \"you ll\": \"you will\",\n",
    "        \"youve\": \"you have\",\n",
    "        \"you ve\": \"you have\",\n",
    "        \"youd\": \"you would\",\n",
    "        \"you d\": \"you would\",\n",
    "        \"hes\": \"he is\",\n",
    "        \"he s\": \"he is\",\n",
    "        \"he ll\": \"he will\",\n",
    "        \"he d\": \"he would\",\n",
    "        \"hed\": \"he would\",\n",
    "        \"shes\": \"she is\",\n",
    "        \"she s\": \"she is\",\n",
    "        \"she ll\": \"she will\",\n",
    "        \"shell\": \"she will\",\n",
    "        \"she d\": \"she would\",\n",
    "        \"shed\": \"she would\",\n",
    "        \"it s\": \"it is\",\n",
    "        \"it d\": \"it would\",\n",
    "        \"itd\": \"it would\",\n",
    "        \"we re\": \"we are\",\n",
    "        \"we ll\": \"we will\",\n",
    "        \"we ve\": \"we have\",\n",
    "        \"weve\": \"we have\",\n",
    "        \"we d\": \"we would\",\n",
    "        \"wed\": \"we would\",\n",
    "        \"they re\": \"they are\",\n",
    "        \"theyre\": \"they are\",\n",
    "        \"theyll\": \"they will\",\n",
    "        \"they ll\": \"they will\",\n",
    "        \"they ve\": \"they have\",\n",
    "        \"theyve\": \"they have\",\n",
    "        \"theyd\": \"they would\",\n",
    "        \"they d\": \"they would\",\n",
    "        \"don t\": \"do not\",\n",
    "        \"dont\": 'do not',\n",
    "        \"doesn t\": \"does not\",\n",
    "        \"didn t\": \"did not\",\n",
    "        \"didnt\": \"did not\",\n",
    "        \"haven t\": \"have not\",\n",
    "        \"hasn t\": \"has not\",\n",
    "        \"hadn t t\": \"had not\",\n",
    "        \"wouldn t\": \"would not\",\n",
    "        \"won t\": \"will not\",\n",
    "        \"wont\": \"will not\",\n",
    "        \"can t\": \"can not\",\n",
    "        \"cant\": \"can not\",\n",
    "        \"couldn t t\": \"could not\",\n",
    "        \"couldnt\": \"could not\",\n",
    "        \"shouldn t\": \"should not\",\n",
    "        \"shouldnt\": \"should not\",\n",
    "        \"isn t\": \"is not\",\n",
    "        \"isnt\": \"is not\",\n",
    "        \"weren t\": \"were not\",\n",
    "        \"werent\": \"were not\",\n",
    "        \"wasn t\": \"was not\",\n",
    "        \"wasnt\": \"was not\",\n",
    "        \"aren t\": \"are not\",\n",
    "        \"arent\": \"are not\",\n",
    "        \"woulndnt t ve\": \"would not have\",\n",
    "        \"woulndnttve\": \"would not have\",\n",
    "        \"shoulndnt t ve\": \"should not have\",\n",
    "        \"shoulndnttve\": \"should not have\"\n",
    "    }\n",
    "\n",
    "    for contraction, expansion in contractions.items():\n",
    "        text = re.sub(r'\\b' + re.escape(contraction) + r'\\b', expansion, text)\n",
    "\n",
    "    return text"
   ],
   "metadata": {
    "collapsed": false,
    "ExecuteTime": {
     "end_time": "2024-03-22T10:04:22.149738Z",
     "start_time": "2024-03-22T10:04:22.142362Z"
    }
   },
   "id": "43f8031edb212b2b",
   "execution_count": 11
  },
  {
   "cell_type": "code",
   "outputs": [],
   "source": [
    "# Применяю функцию. Сохраняю результат в тот же датасет, заменив оригинальные данные обработанными\n",
    "df['text'] = df['text'].apply(expand_contractions)"
   ],
   "metadata": {
    "collapsed": false,
    "ExecuteTime": {
     "end_time": "2024-03-22T10:05:25.221949Z",
     "start_time": "2024-03-22T10:04:24.621798Z"
    }
   },
   "id": "7e34c731b01a3842",
   "execution_count": 12
  },
  {
   "cell_type": "code",
   "outputs": [],
   "source": [
    "# для удаления стоп-слов и токенизации буду использовать пакет SpaCy\n",
    "nlp = spacy.load(\"en_core_web_sm\")"
   ],
   "metadata": {
    "collapsed": false,
    "ExecuteTime": {
     "end_time": "2024-03-22T10:05:25.497728Z",
     "start_time": "2024-03-22T10:05:25.223029Z"
    }
   },
   "id": "192c742c37b177aa",
   "execution_count": 13
  },
  {
   "cell_type": "code",
   "outputs": [],
   "source": [
    "# определяю функцию, которая будет возвращать леммы без стоп-слов\n",
    "def process_text_with_spacy(text):\n",
    "    doc = nlp(text)\n",
    "    return [token.lemma_ for token in doc if not token.is_stop]"
   ],
   "metadata": {
    "collapsed": false,
    "ExecuteTime": {
     "end_time": "2024-03-22T10:05:25.500762Z",
     "start_time": "2024-03-22T10:05:25.498481Z"
    }
   },
   "id": "495ddae0b3c06e44",
   "execution_count": 14
  },
  {
   "cell_type": "code",
   "outputs": [],
   "source": [
    "# вызываю написанную выше функцию и получаю список списков с обработанным текстом\n",
    "tokenized_text = []\n",
    "\n",
    "for text in df['text']:\n",
    "    token = process_text_with_spacy(text)\n",
    "    tokenized_text.append(token)"
   ],
   "metadata": {
    "collapsed": false,
    "ExecuteTime": {
     "end_time": "2024-03-22T10:45:43.697073Z",
     "start_time": "2024-03-22T10:07:54.812865Z"
    }
   },
   "id": "a3993816de65e484",
   "execution_count": 18
  },
  {
   "cell_type": "code",
   "outputs": [],
   "source": [
    "# Сохранение списка в файл\n",
    "with open('tokenized_text.pkl', 'wb') as f:\n",
    "    pickle.dump(tokenized_text, f)"
   ],
   "metadata": {
    "collapsed": false,
    "ExecuteTime": {
     "end_time": "2024-03-22T10:45:44.327920Z",
     "start_time": "2024-03-22T10:45:43.698380Z"
    }
   },
   "id": "dcecd9e5322b0cbd",
   "execution_count": 19
  },
  {
   "cell_type": "code",
   "outputs": [],
   "source": [
    "# Загрузка списка из файла\n",
    "with open('tokenized_text.pkl', 'rb') as f:\n",
    "    tokenized_text = pickle.load(f)"
   ],
   "metadata": {
    "collapsed": false,
    "ExecuteTime": {
     "end_time": "2024-03-22T10:45:45.151493Z",
     "start_time": "2024-03-22T10:45:44.328691Z"
    }
   },
   "id": "7e4fd29fa88caf0c",
   "execution_count": 20
  },
  {
   "cell_type": "code",
   "outputs": [],
   "source": [
    "# буду использовать word2vec для эмбеддинга\n",
    "w2v_model = Word2Vec(tokenized_text, vector_size=100, workers=4)"
   ],
   "metadata": {
    "collapsed": false,
    "ExecuteTime": {
     "end_time": "2024-03-22T10:45:50.647830Z",
     "start_time": "2024-03-22T10:45:45.153106Z"
    }
   },
   "id": "b9fdc5096e66dac4",
   "execution_count": 21
  },
  {
   "cell_type": "code",
   "outputs": [],
   "source": [
    "# Получу векторные представления слов для каждого документа и усредняю веркторы в документе. Сохраняю индексы документов, для которых не нашлось векторных представлений слов\n",
    "empty_doc_indexes = []\n",
    "document_vectors = []\n",
    "for i, document in enumerate(tokenized_text):\n",
    "    doc_vectors = [w2v_model.wv[word] for word in document if word in w2v_model.wv]\n",
    "\n",
    "    if doc_vectors:\n",
    "        avg_doc_vector = np.mean(doc_vectors, axis=0)\n",
    "        document_vectors.append(avg_doc_vector)\n",
    "    else:\n",
    "        empty_doc_indexes.append(i)"
   ],
   "metadata": {
    "collapsed": false,
    "ExecuteTime": {
     "end_time": "2024-03-22T10:45:56.394042Z",
     "start_time": "2024-03-22T10:45:50.648646Z"
    }
   },
   "id": "e3083fca8fdc7101",
   "execution_count": 22
  },
  {
   "cell_type": "code",
   "outputs": [],
   "source": [
    "# Удалю метки для документов, слова в которых не получили векторное представление\n",
    "labels_list = df['label'].values.tolist()\n",
    "for index in sorted(empty_doc_indexes, reverse=True):\n",
    "    labels_list.pop(index)"
   ],
   "metadata": {
    "collapsed": false,
    "ExecuteTime": {
     "end_time": "2024-03-22T10:45:56.400301Z",
     "start_time": "2024-03-22T10:45:56.394831Z"
    }
   },
   "id": "d4d5c02db260132",
   "execution_count": 23
  },
  {
   "cell_type": "code",
   "outputs": [],
   "source": [
    "# Создаю тензоры для данных и их меток\n",
    "document_vectors_np = np.array(document_vectors)\n",
    "document_vectors_tensor = torch.tensor(document_vectors_np)\n",
    "labels_tensor = torch.tensor(labels_list)"
   ],
   "metadata": {
    "collapsed": false,
    "ExecuteTime": {
     "end_time": "2024-03-22T10:45:56.539448Z",
     "start_time": "2024-03-22T10:45:56.401130Z"
    }
   },
   "id": "a8c5443da9af1ece",
   "execution_count": 24
  },
  {
   "cell_type": "code",
   "outputs": [],
   "source": [
    "# Делю данные на тренировочные и тестовые/валидационные\n",
    "train_data, test_val_data, train_labels, test_val_labels = train_test_split(document_vectors_tensor, labels_tensor, train_size=0.7, random_state=24, stratify=labels_tensor)"
   ],
   "metadata": {
    "collapsed": false,
    "ExecuteTime": {
     "end_time": "2024-03-22T10:56:29.287791Z",
     "start_time": "2024-03-22T10:56:29.170286Z"
    }
   },
   "id": "41de39bd0ecd5a0c",
   "execution_count": 62
  },
  {
   "cell_type": "code",
   "outputs": [],
   "source": [
    "# Разделяю тестовые/валидационные на тестовые и валидационные\n",
    "test_data, val_data, test_lables, val_lables = train_test_split(test_val_data, test_val_labels, train_size=0.5, random_state=24, stratify=test_val_labels)"
   ],
   "metadata": {
    "collapsed": false,
    "ExecuteTime": {
     "end_time": "2024-03-22T10:56:29.368684Z",
     "start_time": "2024-03-22T10:56:29.332825Z"
    }
   },
   "id": "7fed84416b3a88b3",
   "execution_count": 63
  },
  {
   "cell_type": "code",
   "outputs": [],
   "source": [
    "# Стандартизую данные\n",
    "mean = torch.mean(train_data, dim=0)\n",
    "std = torch.std(train_data, dim=0)\n",
    "train_data = (train_data - mean) / std\n",
    "test_data = (test_data - mean) / std\n",
    "val_data = (val_data - mean) / std"
   ],
   "metadata": {
    "collapsed": false,
    "ExecuteTime": {
     "end_time": "2024-03-22T10:56:29.609004Z",
     "start_time": "2024-03-22T10:56:29.495594Z"
    }
   },
   "id": "d255e4886e9ba5d5",
   "execution_count": 64
  },
  {
   "cell_type": "code",
   "outputs": [],
   "source": [
    "# Создаю измерение батчей\n",
    "train_dataset = TensorDataset(train_data, train_labels)\n",
    "val_dataset = TensorDataset(val_data, val_lables)\n",
    "test_dataset = TensorDataset(test_data, test_lables)\n",
    "\n",
    "batch_size = 64\n",
    "\n",
    "train_loader = DataLoader(train_dataset, batch_size=batch_size, shuffle=True)\n",
    "val_loader = DataLoader(val_dataset, batch_size=batch_size)\n",
    "test_loader = DataLoader(test_dataset, batch_size=batch_size)"
   ],
   "metadata": {
    "collapsed": false,
    "ExecuteTime": {
     "end_time": "2024-03-22T10:56:29.742114Z",
     "start_time": "2024-03-22T10:56:29.737155Z"
    }
   },
   "id": "27b42991f4377630",
   "execution_count": 65
  },
  {
   "cell_type": "code",
   "outputs": [],
   "source": [
    "import torch.nn.functional as F\n",
    "\n",
    "class SeqModel(nn.Module):\n",
    "    def __init__(self):\n",
    "        super().__init__()\n",
    "        self.fc1 = nn.Linear(100, 128)\n",
    "        self.fc2 = nn.Linear(128, 64)\n",
    "        self.fc3 = nn.Linear(64, 6)\n",
    "        self.act = nn.ReLU()\n",
    "        self.dropout = nn.Dropout(p=0.2)  # Здесь p - вероятность обнуления\n",
    "\n",
    "    def forward(self, x):\n",
    "        out = self.fc1(x)\n",
    "        out = self.act(out)\n",
    "        out = self.fc2(out)\n",
    "        out = self.act(out)\n",
    "        out = self.fc3(out)\n",
    "\n",
    "        return out"
   ],
   "metadata": {
    "collapsed": false,
    "ExecuteTime": {
     "end_time": "2024-03-22T10:56:30.075386Z",
     "start_time": "2024-03-22T10:56:30.070852Z"
    }
   },
   "id": "408adb18e69a650",
   "execution_count": 66
  },
  {
   "cell_type": "code",
   "outputs": [],
   "source": [
    "def training_loop(n_epochs, optimizer, model, criterion, train_loader, val_loader=None):\n",
    "    train_losses = []\n",
    "    val_losses = []\n",
    "\n",
    "    for epoch in range(n_epochs):\n",
    "        loss_train = 0.0\n",
    "        for data, labels in train_loader:\n",
    "            optimizer.zero_grad()\n",
    "            outputs = model(data)\n",
    "            loss = criterion(outputs, labels)\n",
    "            loss.backward()\n",
    "            optimizer.step()\n",
    "            loss_train += loss.item()\n",
    "\n",
    "        avg_loss_train = loss_train / len(train_loader)\n",
    "        train_losses.append(avg_loss_train)\n",
    "\n",
    "        if val_loader is not None:\n",
    "            val_loss = 0.0\n",
    "            with torch.no_grad():\n",
    "                for val_data, val_labels in val_loader:\n",
    "                    val_outputs = model(val_data)\n",
    "                    val_loss += criterion(val_outputs, val_labels).item()\n",
    "            avg_val_loss = val_loss / len(val_loader)\n",
    "            val_losses.append(avg_val_loss)\n",
    "\n",
    "        # Вывод средней потери на каждой эпохе\n",
    "        if epoch == 0 or (epoch + 1) % 10 == 0:\n",
    "            print('{} Epoch {}, Training loss: {:.4f}'.format(\n",
    "                datetime.datetime.now(), epoch + 1, avg_loss_train))\n",
    "            if val_loader is not None:\n",
    "                print('{} Epoch {}, Validation loss: {:.4f}'.format(\n",
    "                    datetime.datetime.now(), epoch + 1, avg_val_loss))\n",
    "\n",
    "    return train_losses, val_losses"
   ],
   "metadata": {
    "collapsed": false,
    "ExecuteTime": {
     "end_time": "2024-03-22T10:56:30.337196Z",
     "start_time": "2024-03-22T10:56:30.332494Z"
    }
   },
   "id": "7c38c9547041a3",
   "execution_count": 67
  },
  {
   "cell_type": "code",
   "outputs": [],
   "source": [
    "def plot_losses(train_losses, val_losses=None):\n",
    "    plt.plot(train_losses, label='Training loss')\n",
    "    if val_losses:\n",
    "        plt.plot(val_losses, label='Validation loss')\n",
    "    plt.xlabel('Epoch')\n",
    "    plt.ylabel('Loss')\n",
    "    plt.legend()\n",
    "    plt.title('Training and Validation Losses')\n",
    "    plt.show()"
   ],
   "metadata": {
    "collapsed": false,
    "ExecuteTime": {
     "end_time": "2024-03-22T10:56:30.618782Z",
     "start_time": "2024-03-22T10:56:30.616081Z"
    }
   },
   "id": "e59d9973defe85b",
   "execution_count": 68
  },
  {
   "cell_type": "code",
   "outputs": [],
   "source": [
    "n_epochs = 14\n",
    "batch_size = 64\n",
    "learning_rate = 0.055\n",
    "\n",
    "model = SeqModel()\n",
    "\n",
    "criterion = nn.CrossEntropyLoss()\n",
    "optimizer = optim.SGD(model.parameters(), lr=learning_rate)"
   ],
   "metadata": {
    "collapsed": false,
    "ExecuteTime": {
     "end_time": "2024-03-22T10:56:30.870352Z",
     "start_time": "2024-03-22T10:56:30.866912Z"
    }
   },
   "id": "a9af18d40e429e6c",
   "execution_count": 69
  },
  {
   "cell_type": "code",
   "outputs": [
    {
     "name": "stdout",
     "output_type": "stream",
     "text": [
      "2024-03-22 17:56:34.122498 Epoch 1, Training loss: 0.7978\n",
      "2024-03-22 17:56:34.122639 Epoch 1, Validation loss: 0.6818\n",
      "2024-03-22 17:56:55.852056 Epoch 10, Training loss: 0.5175\n",
      "2024-03-22 17:56:55.852178 Epoch 10, Validation loss: 0.5540\n"
     ]
    }
   ],
   "source": [
    "train_losses, val_losses = training_loop(n_epochs, optimizer, model, criterion, train_loader, val_loader)"
   ],
   "metadata": {
    "collapsed": false,
    "ExecuteTime": {
     "end_time": "2024-03-22T10:57:05.502246Z",
     "start_time": "2024-03-22T10:56:31.132231Z"
    }
   },
   "id": "7520cdf7a5829c78",
   "execution_count": 70
  },
  {
   "cell_type": "code",
   "outputs": [
    {
     "data": {
      "text/plain": "<Figure size 640x480 with 1 Axes>",
      "image/png": "[encoded data removed]"
     },
     "metadata": {},
     "output_type": "display_data"
    }
   ],
   "source": [
    "plot_losses(train_losses, val_losses)"
   ],
   "metadata": {
    "collapsed": false,
    "ExecuteTime": {
     "end_time": "2024-03-22T10:57:05.584265Z",
     "start_time": "2024-03-22T10:57:05.503579Z"
    }
   },
   "id": "77864436a9b64957",
   "execution_count": 71
  },
  {
   "cell_type": "code",
   "outputs": [
    {
     "name": "stdout",
     "output_type": "stream",
     "text": [
      "Validation loss: 0.5421\n",
      "Validation accuracy: 78.68%\n"
     ]
    }
   ],
   "source": [
    "val_loss = 0.0\n",
    "correct = 0\n",
    "total = 0\n",
    "\n",
    "with torch.no_grad():\n",
    "    for val_data, val_labels in val_loader:\n",
    "        val_outputs = model(val_data)\n",
    "        val_loss += criterion(val_outputs, val_labels).item()\n",
    "        _, predicted = torch.max(val_outputs, 1)\n",
    "        total += val_labels.size(0)\n",
    "        correct += (predicted == val_labels).sum().item()\n",
    "\n",
    "print('Validation loss: {:.4f}'.format(val_loss / len(val_loader)))\n",
    "print('Validation accuracy: {:.2f}%'.format(100 * correct / total))"
   ],
   "metadata": {
    "collapsed": false,
    "ExecuteTime": {
     "end_time": "2024-03-22T10:57:05.889610Z",
     "start_time": "2024-03-22T10:57:05.585006Z"
    }
   },
   "id": "2cdacd5842a39d95",
   "execution_count": 72
  },
  {
   "cell_type": "code",
   "outputs": [
    {
     "name": "stdout",
     "output_type": "stream",
     "text": [
      "Test loss: 0.5396\n",
      "Test accuracy: 78.72%\n"
     ]
    }
   ],
   "source": [
    "test_loss = 0.0\n",
    "correct = 0\n",
    "total = 0\n",
    "with torch.no_grad():\n",
    "    for test_data, test_labels in test_loader:\n",
    "        test_outputs = model(test_data)\n",
    "        test_loss += criterion(test_outputs, test_labels).item()\n",
    "        _, predicted = torch.max(test_outputs, 1)\n",
    "        total += test_labels.size(0)\n",
    "        correct += (predicted == test_labels).sum().item()\n",
    "\n",
    "print('Test loss: {:.4f}'.format(test_loss / len(test_loader)))\n",
    "print('Test accuracy: {:.2f}%'.format(100 * correct / total))"
   ],
   "metadata": {
    "collapsed": false,
    "ExecuteTime": {
     "end_time": "2024-03-22T10:57:06.180153Z",
     "start_time": "2024-03-22T10:57:05.891371Z"
    }
   },
   "id": "16f24a049754a4ab",
   "execution_count": 73
  },
  {
   "cell_type": "code",
   "outputs": [],
   "source": [],
   "metadata": {
    "collapsed": false,
    "ExecuteTime": {
     "end_time": "2024-03-22T10:01:21.108072Z",
     "start_time": "2024-03-22T10:01:21.106632Z"
    }
   },
   "id": "af193144f3f3aef0",
   "execution_count": 14
  }
 ],
 "metadata": {
  "kernelspec": {
   "display_name": "Python 3",
   "language": "python",
   "name": "python3"
  },
  "language_info": {
   "codemirror_mode": {
    "name": "ipython",
    "version": 2
   },
   "file_extension": ".py",
   "mimetype": "text/x-python",
   "name": "python",
   "nbconvert_exporter": "python",
   "pygments_lexer": "ipython2",
   "version": "2.7.6"
  }
 },
 "nbformat": 4,
 "nbformat_minor": 5
}
