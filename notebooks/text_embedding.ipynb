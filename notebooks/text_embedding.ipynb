{
 "cells": [
  {
   "cell_type": "code",
   "id": "initial_id",
   "metadata": {
    "collapsed": true,
    "ExecuteTime": {
     "end_time": "2024-04-09T07:09:32.221901Z",
     "start_time": "2024-04-09T07:09:30.240499Z"
    }
   },
   "source": [
    "import pandas as pd\n",
    "import torch\n",
    "import pickle\n",
    "import numpy as np\n",
    "from gensim.models import Word2Vec  "
   ],
   "outputs": [],
   "execution_count": 1
  },
  {
   "cell_type": "code",
   "source": [
    "# Read the CSV file into a DataFrame\n",
    "df = pd.read_csv('../data/text.csv')"
   ],
   "metadata": {
    "collapsed": false,
    "ExecuteTime": {
     "end_time": "2024-04-09T07:09:32.662646Z",
     "start_time": "2024-04-09T07:09:32.223109Z"
    }
   },
   "id": "4a807f225d19e296",
   "outputs": [],
   "execution_count": 2
  },
  {
   "cell_type": "code",
   "source": [
    "# Load the tokenized text from the pickle file\n",
    "with open('../data/tokenized_text.pkl', 'rb') as f:\n",
    "    tokenized_text = pickle.load(f)"
   ],
   "metadata": {
    "collapsed": false,
    "ExecuteTime": {
     "end_time": "2024-04-09T07:09:33.357761Z",
     "start_time": "2024-04-09T07:09:32.663643Z"
    }
   },
   "id": "acaa921411ed4860",
   "outputs": [],
   "execution_count": 3
  },
  {
   "cell_type": "code",
   "source": [
    "# Using Word2Vec for word embedding\n",
    "w2v_model = Word2Vec(tokenized_text, vector_size=100, workers=4)\n",
    "\n",
    "# Get word vector representations for each document and average the vectors in each document.\n",
    "# Save the indexes of documents for which word vector representations were not found.\n",
    "empty_doc_indexes = []\n",
    "document_vectors = []\n",
    "for index, document in enumerate(tokenized_text):\n",
    "    doc_vectors = [w2v_model.wv[word] for word in document if word in w2v_model.wv]\n",
    "\n",
    "    if doc_vectors:\n",
    "        avg_doc_vector = np.mean(doc_vectors, axis=0)\n",
    "        document_vectors.append(avg_doc_vector)\n",
    "    else:\n",
    "        empty_doc_indexes.append(index)"
   ],
   "metadata": {
    "collapsed": false,
    "ExecuteTime": {
     "end_time": "2024-04-09T07:09:45.199107Z",
     "start_time": "2024-04-09T07:09:33.358655Z"
    }
   },
   "id": "ec156660b9cd04ef",
   "outputs": [],
   "execution_count": 4
  },
  {
   "cell_type": "code",
   "source": [
    "# Convert labels to list and remove labels corresponding to empty documents\n",
    "labels_list = df['label'].values.tolist()\n",
    "for index in sorted(empty_doc_indexes, reverse=True):\n",
    "    labels_list.pop(index)"
   ],
   "metadata": {
    "collapsed": false,
    "ExecuteTime": {
     "end_time": "2024-04-09T07:09:45.209909Z",
     "start_time": "2024-04-09T07:09:45.200746Z"
    }
   },
   "id": "f24c2b6a95390e1c",
   "outputs": [],
   "execution_count": 5
  },
  {
   "cell_type": "code",
   "source": [
    "# Convert document vectors to numpy array and then to tensor\n",
    "document_vectors_np = np.array(document_vectors)\n",
    "document_vectors_tensor = torch.tensor(document_vectors_np)\n",
    "\n",
    "# Convert labels to tensor\n",
    "labels_tensor = torch.tensor(labels_list)"
   ],
   "metadata": {
    "collapsed": false,
    "ExecuteTime": {
     "end_time": "2024-04-09T07:09:45.341907Z",
     "start_time": "2024-04-09T07:09:45.210731Z"
    }
   },
   "id": "a422ed4957668bb6",
   "outputs": [],
   "execution_count": 6
  },
  {
   "cell_type": "code",
   "source": [
    "# Save document vectors tensor and labels tensor to files\n",
    "torch.save(document_vectors_tensor, '../data/document_vectors_emb_tensor.pt')\n",
    "torch.save(labels_tensor, '../data/labels_emb_tensor.pt')"
   ],
   "metadata": {
    "collapsed": false,
    "ExecuteTime": {
     "end_time": "2024-04-09T07:09:45.508346Z",
     "start_time": "2024-04-09T07:09:45.342884Z"
    }
   },
   "id": "578c96e3fff28b47",
   "outputs": [],
   "execution_count": 7
  }
 ],
 "metadata": {
  "kernelspec": {
   "display_name": "Python 3",
   "language": "python",
   "name": "python3"
  },
  "language_info": {
   "codemirror_mode": {
    "name": "ipython",
    "version": 2
   },
   "file_extension": ".py",
   "mimetype": "text/x-python",
   "name": "python",
   "nbconvert_exporter": "python",
   "pygments_lexer": "ipython2",
   "version": "2.7.6"
  }
 },
 "nbformat": 4,
 "nbformat_minor": 5
}
