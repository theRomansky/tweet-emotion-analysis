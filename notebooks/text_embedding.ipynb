{
 "cells": [
  {
   "cell_type": "code",
   "execution_count": 1,
   "id": "initial_id",
   "metadata": {
    "collapsed": true,
    "ExecuteTime": {
     "end_time": "2024-03-27T09:19:18.697371Z",
     "start_time": "2024-03-27T09:19:17.294902Z"
    }
   },
   "outputs": [],
   "source": [
    "import pandas as pd\n",
    "import torch\n",
    "import pickle\n",
    "import numpy as np\n",
    "from gensim.models import Word2Vec  "
   ]
  },
  {
   "cell_type": "code",
   "outputs": [],
   "source": [
    "df = pd.read_csv('../data/text.csv')"
   ],
   "metadata": {
    "collapsed": false,
    "ExecuteTime": {
     "end_time": "2024-03-27T09:19:19.163866Z",
     "start_time": "2024-03-27T09:19:18.698610Z"
    }
   },
   "id": "4a807f225d19e296",
   "execution_count": 2
  },
  {
   "cell_type": "code",
   "outputs": [],
   "source": [
    "# Загрузка списка из файла\n",
    "with open('../data/tokenized_text.pkl', 'rb') as f:\n",
    "    tokenized_text = pickle.load(f)"
   ],
   "metadata": {
    "collapsed": false,
    "ExecuteTime": {
     "end_time": "2024-03-27T09:19:19.933430Z",
     "start_time": "2024-03-27T09:19:19.165030Z"
    }
   },
   "id": "acaa921411ed4860",
   "execution_count": 3
  },
  {
   "cell_type": "code",
   "outputs": [],
   "source": [
    "# буду использовать word2vec для эмбеддинга\n",
    "w2v_model = Word2Vec(tokenized_text, vector_size=100, workers=4)\n",
    "# Получу векторные представления слов для каждого документа и усредняю веркторы в документе. Сохраняю индексы документов, для которых не нашлось векторных представлений слов\n",
    "empty_doc_indexes = []\n",
    "document_vectors = []\n",
    "for index, document in enumerate(tokenized_text):\n",
    "    doc_vectors = [w2v_model.wv[word] for word in document if word in w2v_model.wv]\n",
    "\n",
    "    if doc_vectors:\n",
    "        avg_doc_vector = np.mean(doc_vectors, axis=0)\n",
    "        document_vectors.append(avg_doc_vector)\n",
    "    else:\n",
    "        empty_doc_indexes.append(index)"
   ],
   "metadata": {
    "collapsed": false,
    "ExecuteTime": {
     "end_time": "2024-03-27T09:19:31.883538Z",
     "start_time": "2024-03-27T09:19:19.934287Z"
    }
   },
   "id": "ec156660b9cd04ef",
   "execution_count": 4
  },
  {
   "cell_type": "code",
   "outputs": [],
   "source": [
    "# Удалю метки для документов, слова в которых не получили векторное представление\n",
    "labels_list = df['label'].values.tolist()\n",
    "for index in sorted(empty_doc_indexes, reverse=True):\n",
    "    labels_list.pop(index)"
   ],
   "metadata": {
    "collapsed": false,
    "ExecuteTime": {
     "end_time": "2024-03-27T09:19:31.890865Z",
     "start_time": "2024-03-27T09:19:31.885104Z"
    }
   },
   "id": "f24c2b6a95390e1c",
   "execution_count": 5
  },
  {
   "cell_type": "code",
   "outputs": [],
   "source": [
    "# Создаю тензоры для данных и их меток\n",
    "document_vectors_np = np.array(document_vectors)\n",
    "document_vectors_tensor = torch.tensor(document_vectors_np)\n",
    "labels_tensor = torch.tensor(labels_list)"
   ],
   "metadata": {
    "collapsed": false,
    "ExecuteTime": {
     "end_time": "2024-03-27T09:19:32.070172Z",
     "start_time": "2024-03-27T09:19:31.891735Z"
    }
   },
   "id": "a422ed4957668bb6",
   "execution_count": 6
  },
  {
   "cell_type": "code",
   "outputs": [],
   "source": [
    "torch.save(document_vectors_tensor, '../data/document_vectors_emb_tensor.pt')\n",
    "torch.save(labels_tensor, '../data/labels_emb_tensor.pt')"
   ],
   "metadata": {
    "collapsed": false,
    "ExecuteTime": {
     "end_time": "2024-03-27T09:19:32.261092Z",
     "start_time": "2024-03-27T09:19:32.071267Z"
    }
   },
   "id": "578c96e3fff28b47",
   "execution_count": 7
  },
  {
   "cell_type": "code",
   "outputs": [],
   "source": [],
   "metadata": {
    "collapsed": false,
    "ExecuteTime": {
     "end_time": "2024-03-25T08:26:27.049283Z",
     "start_time": "2024-03-25T08:26:27.047961Z"
    }
   },
   "id": "303ec9a05bdc69e9",
   "execution_count": 30
  }
 ],
 "metadata": {
  "kernelspec": {
   "display_name": "Python 3",
   "language": "python",
   "name": "python3"
  },
  "language_info": {
   "codemirror_mode": {
    "name": "ipython",
    "version": 2
   },
   "file_extension": ".py",
   "mimetype": "text/x-python",
   "name": "python",
   "nbconvert_exporter": "python",
   "pygments_lexer": "ipython2",
   "version": "2.7.6"
  }
 },
 "nbformat": 4,
 "nbformat_minor": 5
}
